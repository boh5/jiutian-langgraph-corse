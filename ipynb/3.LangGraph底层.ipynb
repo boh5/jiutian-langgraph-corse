{
 "cells": [
  {
   "cell_type": "code",
   "execution_count": 1,
   "id": "4a02bba9",
   "metadata": {},
   "outputs": [],
   "source": [
    "from langgraph.graph import StateGraph\n",
    "\n",
    "# stategraph 接收一个字典\n",
    "builder = StateGraph(dict)"
   ]
  },
  {
   "cell_type": "code",
   "execution_count": 2,
   "id": "8cb745ca",
   "metadata": {},
   "outputs": [
    {
     "data": {
      "text/plain": [
       "<langgraph.graph.state.StateGraph at 0x163cfbacd10>"
      ]
     },
     "execution_count": 2,
     "metadata": {},
     "output_type": "execute_result"
    }
   ],
   "source": [
    "builder"
   ]
  },
  {
   "cell_type": "code",
   "execution_count": 4,
   "id": "56fc9f4d",
   "metadata": {},
   "outputs": [
    {
     "data": {
      "text/plain": [
       "{dict: {'__root__': <langgraph.channels.last_value.LastValue at 0x163d0a5aac0>}}"
      ]
     },
     "execution_count": 4,
     "metadata": {},
     "output_type": "execute_result"
    }
   ],
   "source": [
    "builder.schemas"
   ]
  },
  {
   "cell_type": "code",
   "execution_count": 5,
   "id": "64730f8c",
   "metadata": {},
   "outputs": [],
   "source": [
    "def addition(state):\n",
    "    print(f\"init_state: {state}\")\n",
    "    return {\"x\": state[\"x\"] + 1}\n",
    "\n",
    "\n",
    "def subtraction(state):\n",
    "    print(f\"addition_state: {state}\")\n",
    "    return {\"x\": state[\"x\"] - 2}"
   ]
  },
  {
   "cell_type": "code",
   "execution_count": 6,
   "id": "3d288bca",
   "metadata": {},
   "outputs": [
    {
     "data": {
      "text/plain": [
       "<langgraph.graph.state.StateGraph at 0x163cfbacd10>"
      ]
     },
     "execution_count": 6,
     "metadata": {},
     "output_type": "execute_result"
    }
   ],
   "source": [
    "# START 和 END 是两个特殊节点\n",
    "from langgraph.graph import START, END\n",
    "\n",
    "# 添加节点\n",
    "builder.add_node(\"addition\", addition)\n",
    "builder.add_node(\"subtraction\", subtraction)\n",
    "\n",
    "# 构建边\n",
    "builder.add_edge(START, \"addition\")\n",
    "builder.add_edge(\"addition\", \"subtraction\")\n",
    "builder.add_edge(\"subtraction\", END)"
   ]
  },
  {
   "cell_type": "code",
   "execution_count": 7,
   "id": "8b293e83",
   "metadata": {},
   "outputs": [
    {
     "data": {
      "text/plain": [
       "{('__start__', 'addition'),\n",
       " ('addition', 'subtraction'),\n",
       " ('subtraction', '__end__')}"
      ]
     },
     "execution_count": 7,
     "metadata": {},
     "output_type": "execute_result"
    }
   ],
   "source": [
    "builder.edges"
   ]
  },
  {
   "cell_type": "code",
   "execution_count": 8,
   "id": "dc55e46c",
   "metadata": {},
   "outputs": [
    {
     "data": {
      "text/plain": [
       "{'addition': StateNodeSpec(runnable=addition(tags=None, recurse=True, explode_args=False, func_accepts_config=False, func_accepts={}), metadata=None, input=<class 'dict'>, retry_policy=None, cache_policy=None, ends=(), defer=False),\n",
       " 'subtraction': StateNodeSpec(runnable=subtraction(tags=None, recurse=True, explode_args=False, func_accepts_config=False, func_accepts={}), metadata=None, input=<class 'dict'>, retry_policy=None, cache_policy=None, ends=(), defer=False)}"
      ]
     },
     "execution_count": 8,
     "metadata": {},
     "output_type": "execute_result"
    }
   ],
   "source": [
    "builder.nodes"
   ]
  },
  {
   "cell_type": "code",
   "execution_count": 9,
   "id": "64316aed",
   "metadata": {},
   "outputs": [],
   "source": [
    "graph = builder.compile()"
   ]
  },
  {
   "cell_type": "code",
   "execution_count": 10,
   "id": "78e75e65",
   "metadata": {},
   "outputs": [
    {
     "data": {
      "image/png": "[encoded data removed]",
      "text/plain": [
       "<IPython.core.display.Image object>"
      ]
     },
     "metadata": {},
     "output_type": "display_data"
    }
   ],
   "source": [
    "from IPython.display import Image, display\n",
    "\n",
    "display(Image(graph.get_graph(xray=True).draw_mermaid_png()))"
   ]
  },
  {
   "cell_type": "code",
   "execution_count": 11,
   "id": "a4be4ce7",
   "metadata": {},
   "outputs": [
    {
     "name": "stdout",
     "output_type": "stream",
     "text": [
      "init_state: {'x': 10}\n",
      "addition_state: {'x': 11}\n"
     ]
    },
    {
     "data": {
      "text/plain": [
       "{'x': 9}"
      ]
     },
     "execution_count": 11,
     "metadata": {},
     "output_type": "execute_result"
    }
   ],
   "source": [
    "init_state = {\"x\": 10}\n",
    "\n",
    "graph.invoke(init_state)"
   ]
  },
  {
   "cell_type": "code",
   "execution_count": 1,
   "id": "18c93548",
   "metadata": {},
   "outputs": [
    {
     "name": "stdout",
     "output_type": "stream",
     "text": [
      "[addition] 初始状态: x=10\n",
      "[subtraction] 接受到状态: x=11\n",
      "{'x': 9}\n"
     ]
    }
   ],
   "source": [
    "from pydantic import BaseModel\n",
    "from langgraph.graph import StateGraph, START, END\n",
    "\n",
    "\n",
    "class CalcState(BaseModel):\n",
    "    x: int\n",
    "\n",
    "\n",
    "def addition(state: CalcState) -> CalcState:\n",
    "    print(f\"[addition] 初始状态: {state}\")\n",
    "    return CalcState(x=state.x + 1)\n",
    "\n",
    "\n",
    "def subtraction(state: CalcState) -> CalcState:\n",
    "    print(f\"[subtraction] 接受到状态: {state}\")\n",
    "    return CalcState(x=state.x - 2)\n",
    "\n",
    "\n",
    "builder = StateGraph(CalcState)\n",
    "\n",
    "builder.add_node(\"addition\", addition)\n",
    "builder.add_node(\"subtraction\", subtraction)\n",
    "\n",
    "builder.add_edge(START, \"addition\")\n",
    "builder.add_edge(\"addition\", \"subtraction\")\n",
    "builder.add_edge(\"subtraction\", END)\n",
    "\n",
    "graph = builder.compile()\n",
    "\n",
    "initial_state = CalcState(x=10)\n",
    "final_state = graph.invoke(initial_state)\n",
    "\n",
    "print(final_state)"
   ]
  },
  {
   "cell_type": "markdown",
   "id": "414aa01b",
   "metadata": {},
   "source": [
    "## 条件分支图"
   ]
  },
  {
   "cell_type": "code",
   "execution_count": 4,
   "id": "6b0bec00",
   "metadata": {},
   "outputs": [
    {
     "name": "stdout",
     "output_type": "stream",
     "text": [
      "测试 x=4\n",
      "[check_x] Received state: x=4 result=None\n",
      "[handle_even] x 是偶数\n",
      "测试 x=3\n",
      "[check_x] Received state: x=3 result=None\n",
      "[handle_odd] x 是奇数\n"
     ]
    },
    {
     "data": {
      "text/plain": [
       "{'x': 3, 'result': 'odd'}"
      ]
     },
     "execution_count": 4,
     "metadata": {},
     "output_type": "execute_result"
    }
   ],
   "source": [
    "from pydantic import BaseModel\n",
    "from typing import Optional\n",
    "from langgraph.graph import StateGraph, START, END\n",
    "\n",
    "\n",
    "class MyState(BaseModel):\n",
    "    x: int\n",
    "    result: Optional[str] = None\n",
    "\n",
    "\n",
    "def check_x(state: MyState) -> MyState:\n",
    "    print(f\"[check_x] Received state: {state}\")\n",
    "    return state\n",
    "\n",
    "\n",
    "def is_even(state: MyState) -> bool:\n",
    "    return state.x % 2 == 0\n",
    "\n",
    "\n",
    "def handle_even(state: MyState) -> MyState:\n",
    "    print(\"[handle_even] x 是偶数\")\n",
    "    return MyState(x=state.x, result=\"even\")\n",
    "\n",
    "\n",
    "def handle_odd(state: MyState) -> MyState:\n",
    "    print(\"[handle_odd] x 是奇数\")\n",
    "    return MyState(x=state.x, result=\"odd\")\n",
    "\n",
    "\n",
    "builder = StateGraph(MyState)\n",
    "\n",
    "builder.add_node(check_x)\n",
    "builder.add_node(handle_even)\n",
    "builder.add_node(handle_odd)\n",
    "\n",
    "# 添加条件分支\n",
    "builder.add_conditional_edges(\n",
    "    \"check_x\",\n",
    "    is_even,\n",
    "    {\n",
    "        True: \"handle_even\",\n",
    "        False: \"handle_odd\",\n",
    "    },\n",
    ")\n",
    "\n",
    "builder.add_edge(START, \"check_x\")\n",
    "builder.add_edge(\"handle_even\", END)\n",
    "builder.add_edge(\"handle_odd\", END)\n",
    "\n",
    "graph = builder.compile()\n",
    "\n",
    "print(\"测试 x=4\")\n",
    "graph.invoke(MyState(x=4))\n",
    "\n",
    "print(\"测试 x=3\")\n",
    "graph.invoke(MyState(x=3))"
   ]
  },
  {
   "cell_type": "code",
   "execution_count": 5,
   "id": "9aa0ee32",
   "metadata": {},
   "outputs": [
    {
     "data": {
      "image/png": "[encoded data removed]",
      "text/plain": [
       "<IPython.core.display.Image object>"
      ]
     },
     "metadata": {},
     "output_type": "display_data"
    }
   ],
   "source": [
    "from IPython.display import Image, display\n",
    "\n",
    "display(Image(graph.get_graph(xray=True).draw_mermaid_png()))"
   ]
  },
  {
   "cell_type": "markdown",
   "id": "62209d7f",
   "metadata": {},
   "source": [
    "## 条件循环图"
   ]
  },
  {
   "cell_type": "code",
   "execution_count": 6,
   "id": "af62a905",
   "metadata": {},
   "outputs": [
    {
     "name": "stdout",
     "output_type": "stream",
     "text": [
      "\n",
      "✅ 执行循环直到 x > 10\n",
      "[increment] 当前 x = 6\n",
      "[increment] 当前 x = 7\n",
      "[increment] 当前 x = 8\n",
      "[increment] 当前 x = 9\n",
      "[increment] 当前 x = 10\n",
      "[最终结果] -> x = 11\n"
     ]
    }
   ],
   "source": [
    "from pydantic import BaseModel\n",
    "from langgraph.graph import StateGraph, START, END\n",
    "\n",
    "\n",
    "# ✅ 1. 定义结构化状态模型\n",
    "class LoopState(BaseModel):\n",
    "    x: int\n",
    "\n",
    "\n",
    "# ✅ 2. 定义节点逻辑\n",
    "def increment(state: LoopState) -> LoopState:\n",
    "    print(f\"[increment] 当前 x = {state.x}\")\n",
    "    return LoopState(x=state.x + 1)\n",
    "\n",
    "\n",
    "def is_done(state: LoopState) -> bool:\n",
    "    return state.x > 10\n",
    "\n",
    "\n",
    "# ✅ 3. 构建图\n",
    "builder = StateGraph(LoopState)\n",
    "builder.add_node(\"increment\", increment)\n",
    "\n",
    "# ✅ 4. 设置循环控制：is_done 为 True 则结束，否则继续\n",
    "builder.add_conditional_edges(\"increment\", is_done, {True: END, False: \"increment\"})\n",
    "\n",
    "builder.add_edge(START, \"increment\")\n",
    "graph = builder.compile()\n",
    "\n",
    "# ✅ 5. 测试执行\n",
    "print(\"\\n✅ 执行循环直到 x > 10\")\n",
    "final_state = graph.invoke(LoopState(x=6))\n",
    "print(f\"[最终结果] -> x = {final_state['x']}\")"
   ]
  },
  {
   "cell_type": "code",
   "execution_count": 7,
   "id": "9de1b164",
   "metadata": {},
   "outputs": [
    {
     "data": {
      "image/png": "[encoded data removed]",
      "text/plain": [
       "<IPython.core.display.Image object>"
      ]
     },
     "metadata": {},
     "output_type": "display_data"
    }
   ],
   "source": [
    "from IPython.display import Image, display\n",
    "\n",
    "display(Image(graph.get_graph(xray=True).draw_mermaid_png()))"
   ]
  },
  {
   "cell_type": "markdown",
   "id": "e5509fd1",
   "metadata": {},
   "source": [
    "## Graph 构建多轮对话机器人"
   ]
  },
  {
   "cell_type": "code",
   "execution_count": 9,
   "id": "57151709",
   "metadata": {},
   "outputs": [],
   "source": [
    "from typing import Annotated\n",
    "from langgraph.graph.message import add_messages\n",
    "from typing_extensions import TypedDict\n",
    "\n",
    "\n",
    "class State(TypedDict):\n",
    "    messages: Annotated[list, add_messages]\n",
    "\n",
    "\n",
    "graph_builder = StateGraph(State)"
   ]
  },
  {
   "cell_type": "code",
   "execution_count": 10,
   "id": "03bd5891",
   "metadata": {},
   "outputs": [],
   "source": [
    "from dotenv import load_dotenv\n",
    "from langchain.chat_models import init_chat_model\n",
    "import os\n",
    "\n",
    "load_dotenv(override=True)\n",
    "\n",
    "model = init_chat_model(\n",
    "    model=\"deepseek-v3\",\n",
    "    model_provider=\"openai\",\n",
    "    api_key=os.environ[\"DASHSCOPE_API_KEY\"],\n",
    "    base_url=os.environ[\"BASE_URL\"],\n",
    ")"
   ]
  },
  {
   "cell_type": "code",
   "execution_count": 11,
   "id": "7014523b",
   "metadata": {},
   "outputs": [],
   "source": [
    "def chatbot(state: State):\n",
    "    return {\"messages\": [model.invoke(state[\"messages\"])]}"
   ]
  },
  {
   "cell_type": "code",
   "execution_count": 12,
   "id": "d517ec7c",
   "metadata": {},
   "outputs": [],
   "source": [
    "from langgraph.graph import START\n",
    "\n",
    "graph_builder.add_node(\"chatbot\", chatbot)\n",
    "graph_builder.add_edge(START, \"chatbot\")\n",
    "\n",
    "graph = graph_builder.compile()"
   ]
  },
  {
   "cell_type": "code",
   "execution_count": 13,
   "id": "76b16b38",
   "metadata": {},
   "outputs": [
    {
     "data": {
      "image/png": "[encoded data removed]",
      "text/plain": [
       "<IPython.core.display.Image object>"
      ]
     },
     "metadata": {},
     "output_type": "display_data"
    }
   ],
   "source": [
    "from IPython.display import Image, display\n",
    "\n",
    "display(Image(graph.get_graph().draw_mermaid_png()))"
   ]
  },
  {
   "cell_type": "code",
   "execution_count": 14,
   "id": "9c4a3c79",
   "metadata": {},
   "outputs": [
    {
     "data": {
      "text/plain": [
       "{'messages': [HumanMessage(content='你好，我叫bo，好久不见', additional_kwargs={}, response_metadata={}, id='27281f91-da70-43d9-9fac-0c3bd1cf5db5'),\n",
       "  AIMessage(content='你好呀Bo！确实好久不见～最近过得怎么样？有什么新鲜事想分享吗？或者需要帮忙的地方随时告诉我哦～ （如果这是重逢的玩笑，那我可要配合一下：“这么久没见，我的缓存里都找不到你上次的聊天记录了😄”）', additional_kwargs={'refusal': None}, response_metadata={'token_usage': {'completion_tokens': 57, 'prompt_tokens': 10, 'total_tokens': 67, 'completion_tokens_details': None, 'prompt_tokens_details': None}, 'model_name': 'deepseek-v3', 'system_fingerprint': None, 'id': 'chatcmpl-b96cc111-ce33-97ef-8924-bf10a5032efc', 'service_tier': None, 'finish_reason': 'stop', 'logprobs': None}, id='run--6227cee4-b204-4b01-9a4c-0f8b7f6d6b6b-0', usage_metadata={'input_tokens': 10, 'output_tokens': 57, 'total_tokens': 67, 'input_token_details': {}, 'output_token_details': {}})]}"
      ]
     },
     "execution_count": 14,
     "metadata": {},
     "output_type": "execute_result"
    }
   ],
   "source": [
    "final_state = graph.invoke({\"messages\": [\"你好，我叫bo，好久不见\"]})\n",
    "final_state"
   ]
  },
  {
   "cell_type": "code",
   "execution_count": 15,
   "id": "48ffc5f8",
   "metadata": {},
   "outputs": [
    {
     "data": {
      "text/plain": [
       "{'messages': [HumanMessage(content='你好，我叫bo，好久不见', additional_kwargs={}, response_metadata={}, id='e35585dc-0fd7-4013-abae-660976f9de88'),\n",
       "  AIMessage(content='你好呀Bo！确实好久不见～最近过得怎么样？有什么新鲜事想分享吗？或者需要帮忙的地方随时告诉我哦～ （如果这是重逢的玩笑，那我可要配合一下：“这么久没见，我的缓存里都找不到你上次的聊天记录了😄”）', additional_kwargs={}, response_metadata={}, id='f034fcaa-a8f3-4208-8a6a-5d1b8ef7a061'),\n",
       "  HumanMessage(content='请问你还记得我叫什么名字吗？', additional_kwargs={}, response_metadata={}, id='4be43663-43a7-43e3-bc79-c4d06330b11f'),\n",
       "  AIMessage(content='哈哈，当然记得呀！你刚刚说过叫 **Bo** 嘛～ （如果这是考我的记忆力，放心，短期记忆还在线哦！😉）  \\n不过悄悄说，作为AI，每次对话都是全新的开始，但只要你提到名字，我一定会认真记住当前聊天的上下文～ 需要我帮你记点什么特别的信息吗？', additional_kwargs={'refusal': None}, response_metadata={'token_usage': {'completion_tokens': 71, 'prompt_tokens': 78, 'total_tokens': 149, 'completion_tokens_details': None, 'prompt_tokens_details': None}, 'model_name': 'deepseek-v3', 'system_fingerprint': None, 'id': 'chatcmpl-16f0b0c0-acf0-9ddd-936f-e1ae3696f152', 'service_tier': None, 'finish_reason': 'stop', 'logprobs': None}, id='run--2794dc6d-26f2-45ed-8c3f-5df5942ba59d-0', usage_metadata={'input_tokens': 78, 'output_tokens': 71, 'total_tokens': 149, 'input_token_details': {}, 'output_token_details': {}})]}"
      ]
     },
     "execution_count": 15,
     "metadata": {},
     "output_type": "execute_result"
    }
   ],
   "source": [
    "from langchain_core.messages import AIMessage, HumanMessage\n",
    "\n",
    "messages_list = [\n",
    "    HumanMessage(content=\"你好，我叫bo，好久不见\"),\n",
    "    AIMessage(\n",
    "        content=\"你好呀Bo！确实好久不见～最近过得怎么样？有什么新鲜事想分享吗？或者需要帮忙的地方随时告诉我哦～ （如果这是重逢的玩笑，那我可要配合一下：“这么久没见，我的缓存里都找不到你上次的聊天记录了😄”）\"\n",
    "    ),\n",
    "    HumanMessage(content=\"请问你还记得我叫什么名字吗？\"),\n",
    "]\n",
    "\n",
    "final_state = graph.invoke({\"messages\": messages_list})\n",
    "final_state"
   ]
  },
  {
   "cell_type": "code",
   "execution_count": 16,
   "id": "d16803fa",
   "metadata": {},
   "outputs": [
    {
     "name": "stdout",
     "output_type": "stream",
     "text": [
      "🤖 小智： 你好，Bo！很高兴认识你～ 😊 有什么我可以帮你的吗？或者想随便聊聊？\n",
      "🤖 小智： 哈哈，你刚刚说过啦，你叫 **Bo**～ 😄 我记性还不错吧？（如果之前是开玩笑的，或者有另一个名字，随时告诉我哦！）  \n",
      "\n",
      "有什么想聊的话题吗？✨\n",
      "下次再见！\n"
     ]
    }
   ],
   "source": [
    "# 实现可交互的聊天机器人\n",
    "\n",
    "messages_list = []\n",
    "while True:\n",
    "    try:\n",
    "        user_input = input(\"用户提问：\")\n",
    "        if user_input.lower() in [\"exit\", \"quit\"]:\n",
    "            print(\"下次再见！\")\n",
    "            break\n",
    "\n",
    "        messages_list.append(HumanMessage(content=user_input))\n",
    "        final_state = graph.invoke({\"messages\": messages_list})\n",
    "        print(\"🤖 小智：\", final_state[\"messages\"][-1].content)\n",
    "        messages_list.append(final_state[\"messages\"][-1])\n",
    "        messages_list = messages_list[-50:]\n",
    "    except:  # noqa\n",
    "        break"
   ]
  },
  {
   "cell_type": "code",
   "execution_count": 17,
   "id": "e49ed124",
   "metadata": {},
   "outputs": [],
   "source": [
    "# MemorySaver\n",
    "from langgraph.checkpoint.memory import MemorySaver\n",
    "\n",
    "memory = MemorySaver()\n",
    "\n",
    "graph = graph_builder.compile(checkpointer=memory)"
   ]
  },
  {
   "cell_type": "code",
   "execution_count": 18,
   "id": "c4bf0f8e",
   "metadata": {},
   "outputs": [
    {
     "data": {
      "image/png": "[encoded data removed]",
      "text/plain": [
       "<IPython.core.display.Image object>"
      ]
     },
     "metadata": {},
     "output_type": "display_data"
    }
   ],
   "source": [
    "from IPython.display import Image, display\n",
    "\n",
    "display(Image(graph.get_graph().draw_mermaid_png()))"
   ]
  },
  {
   "cell_type": "code",
   "execution_count": 19,
   "id": "cae4f4fe",
   "metadata": {},
   "outputs": [],
   "source": [
    "thread_config = {\"configurable\": {\"thread_id\": \"session_10\"}}"
   ]
  },
  {
   "cell_type": "code",
   "execution_count": 20,
   "id": "ec891138",
   "metadata": {},
   "outputs": [
    {
     "data": {
      "text/plain": [
       "{'messages': [HumanMessage(content='你好，好久不见，我叫bo', additional_kwargs={}, response_metadata={}, id='799ef1a9-2ca8-4784-8334-12d641f3bf8a'),\n",
       "  AIMessage(content='你好呀Bo！虽然我们可能是第一次“见面”，但很高兴认识你～ 😊 最近过得怎么样？有什么想聊的或者需要帮忙的吗？无论是分享新鲜事、讨论兴趣，还是有问题需要解答，我都在这里哦！ （对了，如果是熟人重逢的玩笑…那我配合演出一下：哇，真的好“久”不见！🤣）', additional_kwargs={'refusal': None}, response_metadata={'token_usage': {'completion_tokens': 75, 'prompt_tokens': 10, 'total_tokens': 85, 'completion_tokens_details': None, 'prompt_tokens_details': None}, 'model_name': 'deepseek-v3', 'system_fingerprint': None, 'id': 'chatcmpl-83884374-4926-9d14-84b5-929a493294f4', 'service_tier': None, 'finish_reason': 'stop', 'logprobs': None}, id='run--74ef275b-b897-4c1b-96dc-fb3b31e9b661-0', usage_metadata={'input_tokens': 10, 'output_tokens': 75, 'total_tokens': 85, 'input_token_details': {}, 'output_token_details': {}})]}"
      ]
     },
     "execution_count": 20,
     "metadata": {},
     "output_type": "execute_result"
    }
   ],
   "source": [
    "state1 = graph.invoke(\n",
    "    {\"messages\": [{\"role\": \"human\", \"content\": \"你好，好久不见，我叫bo\"}]},\n",
    "    config=thread_config,\n",
    ")\n",
    "state1"
   ]
  },
  {
   "cell_type": "code",
   "execution_count": 21,
   "id": "3a05db31",
   "metadata": {},
   "outputs": [
    {
     "data": {
      "text/plain": [
       "{'messages': [HumanMessage(content='你好，好久不见，我叫bo', additional_kwargs={}, response_metadata={}, id='799ef1a9-2ca8-4784-8334-12d641f3bf8a'),\n",
       "  AIMessage(content='你好呀Bo！虽然我们可能是第一次“见面”，但很高兴认识你～ 😊 最近过得怎么样？有什么想聊的或者需要帮忙的吗？无论是分享新鲜事、讨论兴趣，还是有问题需要解答，我都在这里哦！ （对了，如果是熟人重逢的玩笑…那我配合演出一下：哇，真的好“久”不见！🤣）', additional_kwargs={'refusal': None}, response_metadata={'token_usage': {'completion_tokens': 75, 'prompt_tokens': 10, 'total_tokens': 85, 'completion_tokens_details': None, 'prompt_tokens_details': None}, 'model_name': 'deepseek-v3', 'system_fingerprint': None, 'id': 'chatcmpl-83884374-4926-9d14-84b5-929a493294f4', 'service_tier': None, 'finish_reason': 'stop', 'logprobs': None}, id='run--74ef275b-b897-4c1b-96dc-fb3b31e9b661-0', usage_metadata={'input_tokens': 10, 'output_tokens': 75, 'total_tokens': 85, 'input_token_details': {}, 'output_token_details': {}}),\n",
       "  HumanMessage(content='你好，你还记得我的名字吗？', additional_kwargs={}, response_metadata={}, id='8101e645-8445-4646-92cf-e95fbef47d53'),\n",
       "  AIMessage(content='哈哈，当然记得呀！你刚刚说过名字是「Bo」嘛～（如果记错了请再提醒我一下，毕竟我的“记忆力”全靠实时聊天记录撑场子呢…🤖）  \\n\\n不过说真的，作为AI，每次对话都是崭新的开始，但只要你提到信息，我都会认真“记住”当前聊天的上下文哦！需要我帮你记点什么特别的事情吗？ 😄  \\n\\n（或者…你其实想让我叫你其他昵称？随时可以更新我的“内存”✨）', additional_kwargs={'refusal': None}, response_metadata={'token_usage': {'completion_tokens': 106, 'prompt_tokens': 96, 'total_tokens': 202, 'completion_tokens_details': None, 'prompt_tokens_details': None}, 'model_name': 'deepseek-v3', 'system_fingerprint': None, 'id': 'chatcmpl-d0b3a09a-9847-9f80-867f-8426c4e0a007', 'service_tier': None, 'finish_reason': 'stop', 'logprobs': None}, id='run--6cc76fdb-4ecf-46b8-b1d0-8728a41b882e-0', usage_metadata={'input_tokens': 96, 'output_tokens': 106, 'total_tokens': 202, 'input_token_details': {}, 'output_token_details': {}})]}"
      ]
     },
     "execution_count": 21,
     "metadata": {},
     "output_type": "execute_result"
    }
   ],
   "source": [
    "state2 = graph.invoke(\n",
    "    {\"messages\": [{\"role\": \"human\", \"content\": \"你好，你还记得我的名字吗？\"}]},\n",
    "    config=thread_config,\n",
    ")\n",
    "state2"
   ]
  },
  {
   "cell_type": "code",
   "execution_count": 22,
   "id": "2e307c35",
   "metadata": {},
   "outputs": [
    {
     "data": {
      "text/plain": [
       "StateSnapshot(values={'messages': [HumanMessage(content='你好，好久不见，我叫bo', additional_kwargs={}, response_metadata={}, id='799ef1a9-2ca8-4784-8334-12d641f3bf8a'), AIMessage(content='你好呀Bo！虽然我们可能是第一次“见面”，但很高兴认识你～ 😊 最近过得怎么样？有什么想聊的或者需要帮忙的吗？无论是分享新鲜事、讨论兴趣，还是有问题需要解答，我都在这里哦！ （对了，如果是熟人重逢的玩笑…那我配合演出一下：哇，真的好“久”不见！🤣）', additional_kwargs={'refusal': None}, response_metadata={'token_usage': {'completion_tokens': 75, 'prompt_tokens': 10, 'total_tokens': 85, 'completion_tokens_details': None, 'prompt_tokens_details': None}, 'model_name': 'deepseek-v3', 'system_fingerprint': None, 'id': 'chatcmpl-83884374-4926-9d14-84b5-929a493294f4', 'service_tier': None, 'finish_reason': 'stop', 'logprobs': None}, id='run--74ef275b-b897-4c1b-96dc-fb3b31e9b661-0', usage_metadata={'input_tokens': 10, 'output_tokens': 75, 'total_tokens': 85, 'input_token_details': {}, 'output_token_details': {}}), HumanMessage(content='你好，你还记得我的名字吗？', additional_kwargs={}, response_metadata={}, id='8101e645-8445-4646-92cf-e95fbef47d53'), AIMessage(content='哈哈，当然记得呀！你刚刚说过名字是「Bo」嘛～（如果记错了请再提醒我一下，毕竟我的“记忆力”全靠实时聊天记录撑场子呢…🤖）  \\n\\n不过说真的，作为AI，每次对话都是崭新的开始，但只要你提到信息，我都会认真“记住”当前聊天的上下文哦！需要我帮你记点什么特别的事情吗？ 😄  \\n\\n（或者…你其实想让我叫你其他昵称？随时可以更新我的“内存”✨）', additional_kwargs={'refusal': None}, response_metadata={'token_usage': {'completion_tokens': 106, 'prompt_tokens': 96, 'total_tokens': 202, 'completion_tokens_details': None, 'prompt_tokens_details': None}, 'model_name': 'deepseek-v3', 'system_fingerprint': None, 'id': 'chatcmpl-d0b3a09a-9847-9f80-867f-8426c4e0a007', 'service_tier': None, 'finish_reason': 'stop', 'logprobs': None}, id='run--6cc76fdb-4ecf-46b8-b1d0-8728a41b882e-0', usage_metadata={'input_tokens': 96, 'output_tokens': 106, 'total_tokens': 202, 'input_token_details': {}, 'output_token_details': {}})]}, next=(), config={'configurable': {'thread_id': 'session_10', 'checkpoint_ns': '', 'checkpoint_id': '1f062bd1-92fe-69b9-8004-376ac5877609'}}, metadata={'source': 'loop', 'step': 4, 'parents': {}, 'thread_id': 'session_10'}, created_at='2025-07-17T03:21:15.939679+00:00', parent_config={'configurable': {'thread_id': 'session_10', 'checkpoint_ns': '', 'checkpoint_id': '1f062bd1-5b26-67f9-8003-90e1755f48aa'}}, tasks=(), interrupts=())"
      ]
     },
     "execution_count": 22,
     "metadata": {},
     "output_type": "execute_result"
    }
   ],
   "source": [
    "latest = graph.get_state(thread_config)\n",
    "latest"
   ]
  }
 ],
 "metadata": {
  "kernelspec": {
   "display_name": ".venv",
   "language": "python",
   "name": "python3"
  },
  "language_info": {
   "codemirror_mode": {
    "name": "ipython",
    "version": 3
   },
   "file_extension": ".py",
   "mimetype": "text/x-python",
   "name": "python",
   "nbconvert_exporter": "python",
   "pygments_lexer": "ipython3",
   "version": "3.12.11"
  }
 },
 "nbformat": 4,
 "nbformat_minor": 5
}
