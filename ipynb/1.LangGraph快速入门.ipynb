{
 "cells": [
  {
   "cell_type": "code",
   "execution_count": 1,
   "id": "7d61546a",
   "metadata": {},
   "outputs": [],
   "source": [
    "import os\n",
    "from dotenv import load_dotenv\n",
    "\n",
    "load_dotenv(override=True)\n",
    "\n",
    "DASHSCOPE_API_KEY = os.getenv(\"DASHSCOPE_API_KEY\")\n",
    "BASE_URL = os.getenv(\"BASE_URL\")"
   ]
  },
  {
   "cell_type": "code",
   "execution_count": 2,
   "id": "064729db",
   "metadata": {},
   "outputs": [],
   "source": [
    "from langchain.chat_models import init_chat_model\n",
    "\n",
    "model = init_chat_model(\n",
    "    model=\"deepseek-v3\",\n",
    "    model_provider=\"openai\",\n",
    "    api_key=DASHSCOPE_API_KEY,\n",
    "    base_url=BASE_URL,\n",
    ")"
   ]
  },
  {
   "cell_type": "code",
   "execution_count": 3,
   "id": "9b21417e",
   "metadata": {},
   "outputs": [
    {
     "name": "stdout",
     "output_type": "stream",
     "text": [
      "你好呀！我是 **DeepSeek Chat**，由 **深度求索（DeepSeek）** 研发的智能 AI 助手。我可以帮你解答各种问题，包括学习、工作、编程、生活百科等，还能处理 **128K 上下文** 的长文本，支持 **文件上传**（如 PDF、Word、Excel 等）并从中提取信息进行分析。  \n",
      "\n",
      "### ✨ **我的特点**：\n",
      "- **免费使用**：目前没有任何收费计划，放心使用！  \n",
      "- **知识丰富**：我的知识截止到**2024年7月**，可以为你提供较新的信息。  \n",
      "- **超长上下文**：能记住 **128K**（约30万字）的对话内容，适合处理长文档或复杂问题。  \n",
      "- **文件阅读**：支持上传 **PDF、Word、Excel、PPT、txt** 等文件，帮你总结、解析或提取关键信息。  \n",
      "- **编程助手**：能帮你写代码、调试、优化算法，支持多种编程语言。  \n",
      "- **生活助手**：无论是旅行攻略、美食推荐、健康建议，还是情感交流，我都能陪你聊聊！  \n",
      "\n",
      "### 🚀 **你可以这样使用我**：\n",
      "- **学习**：解答数学题、写论文大纲、翻译外语等。  \n",
      "- **工作**：写商业计划、优化简历、生成 PPT 大纲等。  \n",
      "- **编程**：写代码、调试报错、优化性能等。  \n",
      "- **日常**：查天气、推荐电影、陪聊解闷等。  \n",
      "\n",
      "有什么想问的？尽管开口，我会尽力帮你！😊\n"
     ]
    }
   ],
   "source": [
    "question = \"你好，请你介绍一下你自己\"\n",
    "\n",
    "result = model.invoke(question)\n",
    "print(result.content)"
   ]
  },
  {
   "cell_type": "markdown",
   "id": "4893129d",
   "metadata": {},
   "source": [
    "## 预构建 API 快速构建智能体"
   ]
  },
  {
   "cell_type": "code",
   "execution_count": 3,
   "id": "e8e950f2",
   "metadata": {},
   "outputs": [],
   "source": [
    "import requests\n",
    "import json\n",
    "from pydantic import BaseModel, Field\n",
    "from langchain_core.tools import tool\n",
    "\n",
    "\n",
    "class WeatherQuery(BaseModel):\n",
    "    loc: str = Field(description=\"The location name of the city\")\n",
    "\n",
    "\n",
    "@tool(args_schema=WeatherQuery)\n",
    "def get_weather(loc):\n",
    "    \"\"\" 查询即时天气函数\n",
    "    :param loc: 必要参数，字符串类型，用户查询天气的具体城市名称，\\\n",
    "    注意，中国的城市需要用对应成是的英文名称代替，例如查询北京市额天气，则loc参数需要输入'Beijing'\n",
    "    :return: OpenWeather API 查询即时天气的结果，具体URL请求地址为: https://api.openweathermap.org/data/2.5/weather\\\n",
    "    返回结果对象类型为解析后的JSON格式对象，并用字符串的形式表示，其中包含了全部重要的天气信息\n",
    "    \"\"\"\n",
    "    url = \"https://api.openweathermap.org/data/2.5/weather\"\n",
    "\n",
    "    params = {\n",
    "        \"q\": loc,\n",
    "        \"appid\": os.getenv(\"OPENWEATHER_API_KEY\"),\n",
    "        \"units\": \"metric\",\n",
    "        \"lang\": \"zh_cn\",\n",
    "    }\n",
    "\n",
    "    response = requests.get(url, params=params)\n",
    "\n",
    "    data = response.json()\n",
    "\n",
    "    return json.dumps(data)"
   ]
  },
  {
   "cell_type": "code",
   "execution_count": 4,
   "id": "f899329c",
   "metadata": {},
   "outputs": [
    {
     "data": {
      "text/plain": [
       "{'messages': [HumanMessage(content='你好，请介绍一下你自己', additional_kwargs={}, response_metadata={}, id='3ce22ebc-0cb6-4cb4-a95d-df1a2e90cdcf'),\n",
       "  AIMessage(content='你好！我是一个智能助手，专门用来帮助解答各种问题、提供信息或执行任务。我可以查询天气、提供建议、解答常识问题，甚至帮助你进行语言翻译等。如果你有任何问题或需要帮助的地方，随时告诉我！ \\n\\n例如：\\n- 想查天气？告诉我城市名称就行。\\n- 需要学习或工作建议？我也可以帮忙。\\n- 或者单纯想聊聊天？我随时在线！ \\n\\n有什么可以帮你的吗？ 😊', additional_kwargs={'refusal': None}, response_metadata={'token_usage': {'completion_tokens': 95, 'prompt_tokens': 256, 'total_tokens': 351, 'completion_tokens_details': None, 'prompt_tokens_details': None}, 'model_name': 'deepseek-v3', 'system_fingerprint': None, 'id': 'chatcmpl-4ab89678-1d61-99f4-9dae-d13ab46bc24f', 'service_tier': None, 'finish_reason': 'stop', 'logprobs': None}, id='run--4968a7d3-7334-4881-ab57-c297d53c96e5-0', usage_metadata={'input_tokens': 256, 'output_tokens': 95, 'total_tokens': 351, 'input_token_details': {}, 'output_token_details': {}})]}"
      ]
     },
     "execution_count": 4,
     "metadata": {},
     "output_type": "execute_result"
    }
   ],
   "source": [
    "from langgraph.prebuilt import create_react_agent\n",
    "\n",
    "tools = [get_weather]\n",
    "\n",
    "agent = create_react_agent(model=model, tools=tools)\n",
    "\n",
    "response = agent.invoke(\n",
    "    {\"messages\": [{\"role\": \"user\", \"content\": \"你好，请介绍一下你自己\"}]}\n",
    ")\n",
    "response"
   ]
  },
  {
   "cell_type": "code",
   "execution_count": 6,
   "id": "cb333aec",
   "metadata": {},
   "outputs": [
    {
     "data": {
      "text/plain": [
       "{'messages': [HumanMessage(content='请问北京今天天气如何？', additional_kwargs={}, response_metadata={}, id='75612f2c-349b-4c22-afa0-3790994f33a7'),\n",
       "  AIMessage(content='', additional_kwargs={'tool_calls': [{'id': 'call_d10390745b224195aaf53d', 'function': {'arguments': '{\"loc\":\"Beijing\"}', 'name': 'get_weather'}, 'type': 'function', 'index': 0}], 'refusal': None}, response_metadata={'token_usage': {'completion_tokens': 19, 'prompt_tokens': 257, 'total_tokens': 276, 'completion_tokens_details': None, 'prompt_tokens_details': None}, 'model_name': 'deepseek-v3', 'system_fingerprint': None, 'id': 'chatcmpl-c2a42d83-85b3-91e0-9328-17d4980a9896', 'service_tier': None, 'finish_reason': 'tool_calls', 'logprobs': None}, id='run--78cf78ac-342f-45f2-bfb1-ad6534824dd7-0', tool_calls=[{'name': 'get_weather', 'args': {'loc': 'Beijing'}, 'id': 'call_d10390745b224195aaf53d', 'type': 'tool_call'}], usage_metadata={'input_tokens': 257, 'output_tokens': 19, 'total_tokens': 276, 'input_token_details': {}, 'output_token_details': {}}),\n",
       "  ToolMessage(content='{\"coord\": {\"lon\": 116.3972, \"lat\": 39.9075}, \"weather\": [{\"id\": 801, \"main\": \"Clouds\", \"description\": \"\\\\u6674\\\\uff0c\\\\u5c11\\\\u4e91\", \"icon\": \"02d\"}], \"base\": \"stations\", \"main\": {\"temp\": 34.72, \"feels_like\": 39.65, \"temp_min\": 34.72, \"temp_max\": 34.72, \"pressure\": 998, \"humidity\": 49, \"sea_level\": 998, \"grnd_level\": 993}, \"visibility\": 10000, \"wind\": {\"speed\": 0.84, \"deg\": 258, \"gust\": 4.07}, \"clouds\": {\"all\": 15}, \"dt\": 1752647224, \"sys\": {\"country\": \"CN\", \"sunrise\": 1752613129, \"sunset\": 1752666099}, \"timezone\": 28800, \"id\": 1816670, \"name\": \"Beijing\", \"cod\": 200}', name='get_weather', id='c346b8d0-fcf9-46d7-ba5e-31a86194bb1a', tool_call_id='call_d10390745b224195aaf53d'),\n",
       "  AIMessage(content='北京今天的天气情况如下：\\n\\n- 天气状况：晴，少云\\n- 当前温度：34.72°C （体感温度：39.65°C）\\n- 湿度：49%\\n- 气压：998 hPa\\n- 风速：0.84 m/s，风向：258°\\n- 能见度：10公里\\n\\n如果您需要更详细的天气信息或其他帮助，请随时告诉我！', additional_kwargs={'refusal': None}, response_metadata={'token_usage': {'completion_tokens': 86, 'prompt_tokens': 533, 'total_tokens': 619, 'completion_tokens_details': None, 'prompt_tokens_details': None}, 'model_name': 'deepseek-v3', 'system_fingerprint': None, 'id': 'chatcmpl-98eed580-176c-9511-a0ff-c6c32310f671', 'service_tier': None, 'finish_reason': 'stop', 'logprobs': None}, id='run--f42e75c0-f2f1-46b7-9794-2d1fc1d0ef76-0', usage_metadata={'input_tokens': 533, 'output_tokens': 86, 'total_tokens': 619, 'input_token_details': {}, 'output_token_details': {}})]}"
      ]
     },
     "execution_count": 6,
     "metadata": {},
     "output_type": "execute_result"
    }
   ],
   "source": [
    "response = agent.invoke(\n",
    "    {\"messages\": [{\"role\": \"user\", \"content\": \"请问北京今天天气如何？\"}]}\n",
    ")\n",
    "response"
   ]
  },
  {
   "cell_type": "code",
   "execution_count": 5,
   "id": "1180adcb",
   "metadata": {},
   "outputs": [
    {
     "data": {
      "text/plain": [
       "{'messages': [HumanMessage(content='请问北京和杭州哪里更热？', additional_kwargs={}, response_metadata={}, id='6749edef-a356-4a79-a45f-ba4bf4c67215'),\n",
       "  AIMessage(content='', additional_kwargs={'tool_calls': [{'id': 'call_8416af1a83f44436863a88', 'function': {'arguments': '{\"loc\": \"Beijing\"}', 'name': 'get_weather'}, 'type': 'function', 'index': 0}, {'id': 'call_d40fe763cef040d8921dc3', 'function': {'arguments': '{\"loc\": \"Hangzhou\"}', 'name': 'get_weather'}, 'type': 'function', 'index': 1}], 'refusal': None}, response_metadata={'token_usage': {'completion_tokens': 41, 'prompt_tokens': 259, 'total_tokens': 300, 'completion_tokens_details': None, 'prompt_tokens_details': None}, 'model_name': 'deepseek-v3', 'system_fingerprint': None, 'id': 'chatcmpl-ba746fb7-9686-9ef2-965f-b6113d61974a', 'service_tier': None, 'finish_reason': 'tool_calls', 'logprobs': None}, id='run--4fa1ecbc-8ac8-464b-ae8e-60deb6b56c45-0', tool_calls=[{'name': 'get_weather', 'args': {'loc': 'Beijing'}, 'id': 'call_8416af1a83f44436863a88', 'type': 'tool_call'}, {'name': 'get_weather', 'args': {'loc': 'Hangzhou'}, 'id': 'call_d40fe763cef040d8921dc3', 'type': 'tool_call'}], usage_metadata={'input_tokens': 259, 'output_tokens': 41, 'total_tokens': 300, 'input_token_details': {}, 'output_token_details': {}}),\n",
       "  ToolMessage(content='{\"coord\": {\"lon\": 116.3972, \"lat\": 39.9075}, \"weather\": [{\"id\": 804, \"main\": \"Clouds\", \"description\": \"\\\\u9634\\\\uff0c\\\\u591a\\\\u4e91\", \"icon\": \"04d\"}], \"base\": \"stations\", \"main\": {\"temp\": 28.94, \"feels_like\": 29.02, \"temp_min\": 28.94, \"temp_max\": 28.94, \"pressure\": 998, \"humidity\": 45, \"sea_level\": 998, \"grnd_level\": 993}, \"visibility\": 10000, \"wind\": {\"speed\": 0.75, \"deg\": 14, \"gust\": 1.77}, \"clouds\": {\"all\": 100}, \"dt\": 1752647892, \"sys\": {\"type\": 1, \"id\": 9609, \"country\": \"CN\", \"sunrise\": 1752613129, \"sunset\": 1752666099}, \"timezone\": 28800, \"id\": 1816670, \"name\": \"Beijing\", \"cod\": 200}', name='get_weather', id='cc4e5242-0d08-4ff9-90ee-0ad4739da301', tool_call_id='call_8416af1a83f44436863a88'),\n",
       "  ToolMessage(content='{\"coord\": {\"lon\": 120.1614, \"lat\": 30.2937}, \"weather\": [{\"id\": 804, \"main\": \"Clouds\", \"description\": \"\\\\u9634\\\\uff0c\\\\u591a\\\\u4e91\", \"icon\": \"04d\"}], \"base\": \"stations\", \"main\": {\"temp\": 36.95, \"feels_like\": 43.95, \"temp_min\": 36.95, \"temp_max\": 36.95, \"pressure\": 998, \"humidity\": 51, \"sea_level\": 998, \"grnd_level\": 996}, \"visibility\": 10000, \"wind\": {\"speed\": 3.33, \"deg\": 204, \"gust\": 3.9}, \"clouds\": {\"all\": 100}, \"dt\": 1752648080, \"sys\": {\"type\": 1, \"id\": 9651, \"country\": \"CN\", \"sunrise\": 1752613681, \"sunset\": 1752663741}, \"timezone\": 28800, \"id\": 1808926, \"name\": \"Hangzhou\", \"cod\": 200}', name='get_weather', id='5e14b003-b4ed-4335-ae47-1881a8960328', tool_call_id='call_d40fe763cef040d8921dc3'),\n",
       "  AIMessage(content='目前北京的天气温度为28.94°C，体感温度29.02°C；而杭州的天气温度为36.95°C，体感温度43.95°C。因此，杭州比北京更热。', additional_kwargs={'refusal': None}, response_metadata={'token_usage': {'completion_tokens': 47, 'prompt_tokens': 836, 'total_tokens': 883, 'completion_tokens_details': None, 'prompt_tokens_details': None}, 'model_name': 'deepseek-v3', 'system_fingerprint': None, 'id': 'chatcmpl-64287591-cc2e-9176-99e0-a4388a88493b', 'service_tier': None, 'finish_reason': 'stop', 'logprobs': None}, id='run--427d10cb-cc0a-4cdf-b643-73e11110f195-0', usage_metadata={'input_tokens': 836, 'output_tokens': 47, 'total_tokens': 883, 'input_token_details': {}, 'output_token_details': {}})]}"
      ]
     },
     "execution_count": 5,
     "metadata": {},
     "output_type": "execute_result"
    }
   ],
   "source": [
    "response = agent.invoke(\n",
    "    {\"messages\": [{\"role\": \"user\", \"content\": \"请问北京和杭州哪里更热？\"}]}\n",
    ")\n",
    "response"
   ]
  },
  {
   "cell_type": "code",
   "execution_count": 7,
   "id": "696091ef",
   "metadata": {},
   "outputs": [],
   "source": [
    "class WriteQuery(BaseModel):\n",
    "    content: str = Field(description=\"需要写入文档的具体内容\")\n",
    "\n",
    "\n",
    "@tool(args_schema=WriteQuery)\n",
    "def write_file(content: str) -> str:\n",
    "    \"\"\"\n",
    "    将指定内容写入本地文件。\n",
    "    :param content: 必要参数，字符串类型，用于表示需要写入文档的具体内容。\n",
    "    :return: 是否写入成功\n",
    "    \"\"\"\n",
    "\n",
    "    return \"已成功写入本地文件\""
   ]
  },
  {
   "cell_type": "code",
   "execution_count": 8,
   "id": "4ecfa083",
   "metadata": {},
   "outputs": [],
   "source": [
    "tools = [get_weather, write_file]\n",
    "\n",
    "agent = create_react_agent(model=model, tools=tools)"
   ]
  },
  {
   "cell_type": "code",
   "execution_count": 9,
   "id": "b4c502e3",
   "metadata": {},
   "outputs": [
    {
     "data": {
      "text/plain": [
       "{'messages': [HumanMessage(content='你好请帮我查询北京和杭州的天气，并将其写入本地文件中', additional_kwargs={}, response_metadata={}, id='b62fa1d7-3112-44b7-8e6f-08589031c726'),\n",
       "  AIMessage(content='', additional_kwargs={'tool_calls': [{'id': 'call_62415aff5a09465d9c1d7e', 'function': {'arguments': '{\"loc\": \"Beijing\"}', 'name': 'get_weather'}, 'type': 'function', 'index': 0}, {'id': 'call_0a79283e7ede427bb20156', 'function': {'arguments': '{\"loc\": \"Hangzhou\"}', 'name': 'get_weather'}, 'type': 'function', 'index': 1}], 'refusal': None}, response_metadata={'token_usage': {'completion_tokens': 41, 'prompt_tokens': 363, 'total_tokens': 404, 'completion_tokens_details': None, 'prompt_tokens_details': None}, 'model_name': 'deepseek-v3', 'system_fingerprint': None, 'id': 'chatcmpl-3e5f1127-c0b8-9c7d-a2a5-ff43a184d9c8', 'service_tier': None, 'finish_reason': 'tool_calls', 'logprobs': None}, id='run--1dee103f-3053-4e43-92ae-57fe7ada9433-0', tool_calls=[{'name': 'get_weather', 'args': {'loc': 'Beijing'}, 'id': 'call_62415aff5a09465d9c1d7e', 'type': 'tool_call'}, {'name': 'get_weather', 'args': {'loc': 'Hangzhou'}, 'id': 'call_0a79283e7ede427bb20156', 'type': 'tool_call'}], usage_metadata={'input_tokens': 363, 'output_tokens': 41, 'total_tokens': 404, 'input_token_details': {}, 'output_token_details': {}}),\n",
       "  ToolMessage(content='{\"coord\": {\"lon\": 116.3972, \"lat\": 39.9075}, \"weather\": [{\"id\": 804, \"main\": \"Clouds\", \"description\": \"\\\\u9634\\\\uff0c\\\\u591a\\\\u4e91\", \"icon\": \"04d\"}], \"base\": \"stations\", \"main\": {\"temp\": 28.94, \"feels_like\": 29.02, \"temp_min\": 28.94, \"temp_max\": 28.94, \"pressure\": 998, \"humidity\": 45, \"sea_level\": 998, \"grnd_level\": 993}, \"visibility\": 10000, \"wind\": {\"speed\": 0.75, \"deg\": 14, \"gust\": 1.77}, \"clouds\": {\"all\": 100}, \"dt\": 1752647892, \"sys\": {\"type\": 1, \"id\": 9609, \"country\": \"CN\", \"sunrise\": 1752613129, \"sunset\": 1752666099}, \"timezone\": 28800, \"id\": 1816670, \"name\": \"Beijing\", \"cod\": 200}', name='get_weather', id='07b57fc1-d91d-40bf-86b2-66412e62bea3', tool_call_id='call_62415aff5a09465d9c1d7e'),\n",
       "  ToolMessage(content='{\"coord\": {\"lon\": 120.1614, \"lat\": 30.2937}, \"weather\": [{\"id\": 804, \"main\": \"Clouds\", \"description\": \"\\\\u9634\\\\uff0c\\\\u591a\\\\u4e91\", \"icon\": \"04d\"}], \"base\": \"stations\", \"main\": {\"temp\": 36.95, \"feels_like\": 43.95, \"temp_min\": 36.95, \"temp_max\": 36.95, \"pressure\": 998, \"humidity\": 51, \"sea_level\": 998, \"grnd_level\": 996}, \"visibility\": 10000, \"wind\": {\"speed\": 3.33, \"deg\": 204, \"gust\": 3.9}, \"clouds\": {\"all\": 100}, \"dt\": 1752648080, \"sys\": {\"type\": 1, \"id\": 9651, \"country\": \"CN\", \"sunrise\": 1752613681, \"sunset\": 1752663741}, \"timezone\": 28800, \"id\": 1808926, \"name\": \"Hangzhou\", \"cod\": 200}', name='get_weather', id='6f00a461-ee9c-499a-9acb-2a9ced4c31d8', tool_call_id='call_0a79283e7ede427bb20156'),\n",
       "  AIMessage(content='', additional_kwargs={'tool_calls': [{'id': 'call_75a9d955d9f3481ab898ba', 'function': {'arguments': '{\"content\":\"北京天气：阴，多云，温度28.94°C，湿度45%，风速0.75m/s。\\\\n杭州天气：阴，多云，温度36.95°C，湿度51%，风速3.33m/s。\"}', 'name': 'write_file'}, 'type': 'function', 'index': 0}], 'refusal': None}, response_metadata={'token_usage': {'completion_tokens': 67, 'prompt_tokens': 940, 'total_tokens': 1007, 'completion_tokens_details': None, 'prompt_tokens_details': None}, 'model_name': 'deepseek-v3', 'system_fingerprint': None, 'id': 'chatcmpl-fc8e3211-af35-9f3e-a1b3-f24f994b863a', 'service_tier': None, 'finish_reason': 'tool_calls', 'logprobs': None}, id='run--489a8ee8-4e91-4fbc-8ada-d2a7f7c6821e-0', tool_calls=[{'name': 'write_file', 'args': {'content': '北京天气：阴，多云，温度28.94°C，湿度45%，风速0.75m/s。\\n杭州天气：阴，多云，温度36.95°C，湿度51%，风速3.33m/s。'}, 'id': 'call_75a9d955d9f3481ab898ba', 'type': 'tool_call'}], usage_metadata={'input_tokens': 940, 'output_tokens': 67, 'total_tokens': 1007, 'input_token_details': {}, 'output_token_details': {}}),\n",
       "  ToolMessage(content='已成功写入本地文件', name='write_file', id='24c07e76-46c6-4522-817d-5fb52cbf4520', tool_call_id='call_75a9d955d9f3481ab898ba'),\n",
       "  AIMessage(content='已将北京和杭州的天气信息写入本地文件中。  \\n\\n**北京天气**：阴，多云，温度28.94°C，湿度45%，风速0.75m/s。  \\n**杭州天气**：阴，多云，温度36.95°C，湿度51%，风速3.33m/s。', additional_kwargs={'refusal': None}, response_metadata={'token_usage': {'completion_tokens': 65, 'prompt_tokens': 1169, 'total_tokens': 1234, 'completion_tokens_details': None, 'prompt_tokens_details': None}, 'model_name': 'deepseek-v3', 'system_fingerprint': None, 'id': 'chatcmpl-ba219fbc-3773-9ea0-ab1a-d553ae449da0', 'service_tier': None, 'finish_reason': 'stop', 'logprobs': None}, id='run--0ffd74d1-5330-4d3f-aed0-fdacb80bc79c-0', usage_metadata={'input_tokens': 1169, 'output_tokens': 65, 'total_tokens': 1234, 'input_token_details': {}, 'output_token_details': {}})]}"
      ]
     },
     "execution_count": 9,
     "metadata": {},
     "output_type": "execute_result"
    }
   ],
   "source": [
    "response = agent.invoke(\n",
    "    {\n",
    "        \"messages\": [\n",
    "            {\n",
    "                \"role\": \"human\",\n",
    "                \"content\": \"你好请帮我查询北京和杭州的天气，并将其写入本地文件中\",\n",
    "            }\n",
    "        ]\n",
    "    }\n",
    ")\n",
    "response"
   ]
  },
  {
   "cell_type": "code",
   "execution_count": 10,
   "id": "2aaff07b",
   "metadata": {},
   "outputs": [],
   "source": [
    "from langchain_tavily import TavilySearch\n",
    "\n",
    "search_tool = TavilySearch(max_results=5, topic=\"general\")\n",
    "\n",
    "tools = [search_tool]\n",
    "\n",
    "search_agent = create_react_agent(model=model, tools=tools)"
   ]
  },
  {
   "cell_type": "code",
   "execution_count": 11,
   "id": "734ebc65",
   "metadata": {},
   "outputs": [
    {
     "data": {
      "text/plain": [
       "{'messages': [HumanMessage(content='帮我搜索最近 OpenAI CEO在访谈中的核心观点。', additional_kwargs={}, response_metadata={}, id='52e0de7f-f36d-4fed-af48-1c2065b6e592'),\n",
       "  AIMessage(content='', additional_kwargs={'tool_calls': [{'id': 'call_a4d14fc4028046abaa8444', 'function': {'arguments': '{\"query\":\"OpenAI CEO 访谈 核心观点\",\"search_depth\":\"advanced\",\"time_range\":\"week\",\"topic\":\"news\"}', 'name': 'tavily_search'}, 'type': 'function', 'index': 0}], 'refusal': None}, response_metadata={'token_usage': {'completion_tokens': 41, 'prompt_tokens': 1189, 'total_tokens': 1230, 'completion_tokens_details': None, 'prompt_tokens_details': None}, 'model_name': 'deepseek-v3', 'system_fingerprint': None, 'id': 'chatcmpl-90f74ab5-87c7-9bff-8e0c-d70057e1b190', 'service_tier': None, 'finish_reason': 'tool_calls', 'logprobs': None}, id='run--17cec9ef-5da4-47e9-85fb-c8bb28016834-0', tool_calls=[{'name': 'tavily_search', 'args': {'query': 'OpenAI CEO 访谈 核心观点', 'search_depth': 'advanced', 'time_range': 'week', 'topic': 'news'}, 'id': 'call_a4d14fc4028046abaa8444', 'type': 'tool_call'}], usage_metadata={'input_tokens': 1189, 'output_tokens': 41, 'total_tokens': 1230, 'input_token_details': {}, 'output_token_details': {}}),\n",
       "  ToolMessage(content='{\"query\": \"OpenAI CEO 访谈 核心观点\", \"follow_up_questions\": null, \"answer\": null, \"images\": [], \"results\": [{\"url\": \"https://finance.sina.cn/stock/jdts/2025-07-13/detail-inffhtrt7335082.d.html?vt=4&cid=76993&node_id=76993\", \"title\": \"Sam Altman警告：不要复制OpenAI_手机新浪网\", \"content\": \"在访谈中，从最初面对“是否值得一做”的犹疑，到目前推动 OpenAI 领跑全球大模型行业，他不仅讲述了技术的演进，更剖析了自身信念的建立、团队的核心和未来科技图景的考量。他坦诚地谈到了职业生涯中最艰难的时刻、个人生产力的局限性，以及最终，这一切仍然关乎找到你喜欢共事的人并做有意义的事情。\\\\n\\\\nYC 总裁 Garry Tan 与 Altman 的这场对话，让我们能够窥见个体和团队在技术浪潮中的可能性。\\\\n\\\\n他相信，未来十年与过去十年最大的区别在于：个人或小团队的产出数量、完成后获得的满足感，以及最重要的，为彼此提供的产品与服务的品质，都会达到全新的高度。\\\\n\\\\n其他核心观点如下：\\\\n\\\\n学术头条在不改变原文大意的前提下，对访谈内容做了适当的精编和删减。如下：\\\\n\\\\n“决定去做”看似疯狂的 AGI\\\\n\\\\nGarry Tan：Sam，非常感谢你的到来，也感谢你带来的所有启发。OpenAI对任何有抱负的人来说都是一个令人激励的存在，我们就从这开始，在早期，你们有哪些看似微小但最终被证明是极其关键的决定？ [...] Published Time: 2025-07-13 09:42:13\\\\n\\\\nSam Altman警告：不要复制OpenAI_手机新浪网\\\\n\\\\n===============\\\\n\\\\nImage 1打开新浪新闻 发现更多精彩 打开;)\\\\n\\\\n\\\\n新浪科技股票\\\\n---------------------------------------------------------------------------------------\\\\n\\\\nImage 2\\\\nSam Altman警告：不要复制OpenAI\\\\n=======================\\\\n\\\\n_Image 3_\\\\n\\\\n市场资讯\\\\n----\\\\n\\\\n07.13 09:42 \\\\n\\\\n关注)\\\\n\\\\nImage 4Image 5)\\\\n在 Y Combinator 于旧金山举办的AI Startup School 活动上，OpenAI 首席执行官 Sam Altman 被邀请做了一场深度访谈。\\\\n\\\\n他从小就对技术着迷，少年时就被斯坦福大学计算机科学专业录取，并在 20 岁之前辍学创立了他的第一家公司。从那一刻起，他便踏上了一条与人工智能（AI）和技术创新紧密交织的旅程。 [...] Sam Altman：至少在早期，经验确实珍贵，某个阶段会需要，但我没有成功，YC也没有成功。我更愿意要年轻、有冲劲、能把事做成的人，而不是简历耀眼的老将。有一天你会需要经验丰富的人，但不是开始。评审 YC 申请时，我几乎不看履历——你在谷歌待过、毕业于哪所大学，我真不关心。我先看的是：你做过最令人惊叹的事是什么？如果那还没说服我，我才会翻履历，但那只是备用信息。\\\\n\\\\nGarry Tan：也就是说，看他们真正写过的代码、做过的产品、迭代速度，以及思考和解决问题的方式。\\\\n\\\\nSam Altman：正好 PB（Paul Buchheit）在场，他常说的一句我引用无数次的话是：“招聘要看成长斜率，而非当前截距。” 换句话说，重潜力胜过静态成就，这条建议非常棒。\\\\n\\\\nGarry Tan：再聊聊担任 OpenAI CEO 吧，最大挑战是什么？\\\\n\\\\nSam Altman：坦率讲，我不推荐这份工作。单个挑战都不算难，难在同时要处理太多事，而且还有那么多大公司从不同方向试图攻击我们。要在一个重大决策和另一个完全不相关却同样重大的决策之间来回切换。\\\\n\\\\n未来十年最值得下注的技术方向\", \"score\": 0.8987045, \"raw_content\": null}, {\"url\": \"https://finance.sina.com.cn/stock/usstock/c/2025-07-09/doc-infewcvp4829740.shtml?cre=tianyi&mod=pchp&loc=26&r=0&rfunc=22&tj=cxvertical_pc_hp&tr=12\", \"title\": \"OpenAI首席执行官回应Meta挖人，评论马斯克与特朗普不和 - 新浪财经\", \"content\": \"# OpenAI首席执行官回应Meta挖人，评论马斯克与特朗普不和\\\\n\\\\n2025年07月09日 15:07\\\\n环球市场播报\\\\n\\\\n新浪财经APP举报\\\\n缩小字体\\\\n放大字体\\\\n收藏\\\\n微博\\\\n微信\\\\n分享\\\\n\\\\n腾讯QQ\\\\nQQ空间\\\\n\\\\n当地时间周二，OpenAI首席执行官萨姆·奥特曼（Sam Altman）在一年一度的太阳谷峰会上接受采访时，就Meta最近发起的AI人才争夺战、埃隆·马斯克的美国党以及他对特朗普政府的看法等问题发表了评论。\\\\n\\\\n\\u3000\\u3000奥特曼将参加本周举行的太阳谷峰会，他在进入会场前与记者交谈了几分钟。首先被问及OpenAI和社交媒体巨头Meta之间的人才争夺战。\\\\n\\\\n\\u3000\\u3000“我们显然拥有一支非常有才华的团队，我认为他们真的很喜欢他们正在做的事情。显然，有些人会去不同的地方，”奥特曼告诉记者。\\\\n\\\\n\\u3000\\u3000“我想你可以说，这个行业充满了兴奋。但是，我认为我们感觉很好。” [...] - 01/全球黄金价格“高处不胜寒” 到底发生了什么？\\\\n- 02/经营贷利率最低达2.35％ 银行员工：有需要可登门拜访\\\\n- 03/实控人也没赶上趟？成都银行股价上涨过快，股东增持计划期限过半竟可能“无法实施”\\\\n- 04/指数上涨带火理财！多只产品“达标”提前终止，机构火速上新\\\\n- 05/稳定币的“热”与“冷”\\\\n- 06/银行排名，DeepSeek是懂的\\\\n- 07/经营贷利率跌穿3% 银行息差压力料持续\\\\n- 08/普益标准：6月银行理财产品发行量显著回升\\\\n- 09/金融反腐追踪｜6月至少8人被查，2人为监管干部\\\\n- 10/四川村镇银行整合提速：名山锦程村镇银行“变身”成都银行雅安分行 成都农商行拟吸收合并6家机构\\\\n\\\\n## 7X24小时\\\\n\\\\n徐小明 凯恩斯 占豪 花荣 金鼎 wu2198 丁大卫 易宪容 叶荣添 沙黾农 冯矿伟 趋势之友 空空道人 股市风云 股海光头\\\\n\\\\n杨伟民- 连平：\\\\n  商业银行如何支持民营经济\\\\n- 温彬：\\\\n  CPI边际改善，PPI持续承压\\\\n- 周琼：\\\\n  普惠资产盘活注入新动能\\\\n- 张明：\\\\n  美元指数步入较长下行期\\\\n- 夏磊：\\\\n  新格局下的中国经济 [...] - 01/“中国有个计划，要占据一席之地”\\\\n- 02/整体跌至“1字头”，大额存单“失宠了”\\\\n- 03/国家统计局：2025年6月份CPI同比由降转涨 核心CPI继续回升\\\\n- 04/特朗普称他将对铜征收50%的关税 进口药品可能在一年后课税200%\\\\n- 05/国家发展改革委：2025年中国GDP规模预计在140万亿元左右\\\\n- 06/108万拍下LABUBU！“童趣经济”为何让成年人疯狂买单？\\\\n- 07/隔夜要闻：纽约期铜大涨 关税不延期 制药、半导体关税将出 英伟达突破3.9万亿美元 波音飞机交付量创新高\\\\n- 08/南向资金“扫货”港股 机构最新测算：万亿资金入场可待\\\\n- 09/有关降息、对俄制裁、对乌军援等 特朗普内阁会议信息量极大\\\\n- 10/特朗普放话称8月1日关税最后期限不会延期 可能很快设定欧盟税率\", \"score\": 0.76992935, \"raw_content\": null}, {\"url\": \"https://en.wikipedia.org/wiki/Sam_Altman\", \"title\": \"Sam Altman - Wikipedia\", \"content\": \"7. ^ Stevens, Pippa (April 22, 2025). \\\\\"Sam Altman steps down as Oklo board chair, freeing nuclear startup to work with more AI companies\\\\\". CNBC. Retrieved April 28, 2025.\\\\n8. ^ \\\\\"Sam Altman\\\\\". Forbes. Retrieved June 21, 2025.\\\\n9. ^ \\\\\"An Interview with OpenAI CEO Sam Altman About Building a Consumer Tech Company\\\\\". Stratechery by Ben Thompson. March 20, 2025. Retrieved May 13, 2025. I was born in Chicago, but I really grew up in St. Louis. [...] 13. ^ Nguyen, Britney; Hart, Jordan (February 20, 2024). \\\\\"Meet Sam Altman, the OpenAI CEO who learned to code at 8 and is a doomsday prepper with a stash of guns and gold\\\\\". Retrieved March 16, 2024.\\\\n14. ^ Hagy, Paige (November 21, 2023). \\\\\"Sam Altman\\'s ousting from OpenAI could lead to even greater success: \\'You could parachute him into an island full of cannibals and come back in five years and he\\'d be the king\\'\\\\\". Fortune. [...] | hide - v - t - e  OpenAI | | |\\\\n| --- | --- | --- |\", \"score\": 0.7036111, \"raw_content\": null}, {\"url\": \"https://x.com/IEObserve/status/1944293199922737343\", \"title\": \"Intl Econ Observe on X: \\\\\"隨著AI 技術的快速發展，網路和搜尋市場正 ...\", \"content\": \"這種對速度的重視體現在他的日常管理中。在訪談現場，他展示了新功能時發現了一個錯誤，立即停下所有事情去排查問題。他解釋道：「我愛排查和修復錯誤。我知道這聲起來很瑣碎。像『這是 CEO 時間的最佳用途嗎？』有很多人會有不同想法。最近人們說『我希望這種行為能影響到其他人』，像我注意到甚至 Sundar 現在也在 X 上做錯誤支援。所以我很高興能樹立好榜樣。」 這種親力親為的管理風格反映了新創公司必須具備的緊迫感和責任感。在資源有限的情況下，每一個錯誤的快速修復都可能決定用戶體驗的好壞，進而影響公司的生存。 #專注是世界級能力的基礎 Srinivas 強調專注的戰略重要性：「有限數量的事情您可以成為世界級的，無論是建造優秀的模型，還是建造一兩個真正好的產品。所以，您顯然不會在所有事情上獲勝。」 對於如何選擇專注領域，他提供了明確的標準：「對我們來說，這是我們唯一關心的事情。答案層面的準確性、任務層面的準確性、協調所有這些不同工具。」這種專注不是簡單的產品功能選擇，而是對整個公司價值主張的定義。 [...] 隨著 AI 技術的快速發展，網路和搜尋市場正經歷前所未有的變革。Perplexity CEO Aravind Srinivas 的最新訪談揭露了當前 AI 市場的激烈競爭狀態，以及對未來發展的想像，包含為什麼大家都在做瀏覽器，還有Perplexity憑什麼在巨頭環伺的市場活下去。 ----- Y Combinator 的訪問 ----- #AI市場的激烈競爭現實 當前的 AI 市場已進入白熱化競爭階段。Srinivas 直言不諱地描述了這種現況：「如果某件事真的值得做，那麼有大量資金的人去做是很自然的。人們說 Perplexity 是一個很棒的產品。現在每個人都在嘗試做一些可以用來源回答任何問題的事情。」 他進一步指出市場複製的普遍性：「Cursor 是一個很棒的產品。現在，OpenAI 正在嘗試收購 Cursor 的競爭對手，Anthropic 推出了 Claude Code。Google 有自己的競爭工具。所以，當某個領域有很多錢可賺時，人們自然會嘗試複製它。」 這種競爭格局反映了 AI 產業的一個關鍵特徵：成功產品會迅速被複製，創新公司必須不斷保持領先。\", \"score\": 0.7009158, \"raw_content\": null}, {\"url\": \"https://www.biography.com/business-leaders/a65204556/openai-sam-altman-ilya-sutskever\", \"title\": \"OpenAI\\'s CEO Crisis Pitted Sam Altman Against Ilya Sutskever\", \"content\": \"This dust-up drew attention to the unique power structure of OpenAI, one that sets it apart from the bulk of other operators in the tech sector. Technology reporter Kate Clark summarized the structure in an NPR interview, noting that rather than being a pure for-profit business from the top down:\", \"score\": 0.68748367, \"raw_content\": null}], \"response_time\": 1.69}', name='tavily_search', id='d554a46d-3dc6-4643-beed-bc0150d5fccc', tool_call_id='call_a4d14fc4028046abaa8444'),\n",
       "  AIMessage(content='最近OpenAI CEO Sam Altman在访谈中分享了一些核心观点，主要包括：\\n\\n1. **技术与团队的重要性**：Altman强调了在早期阶段，年轻、有冲劲的团队成员比经验丰富的老将更为重要。他更看重个人的成长潜力和实际成就，而非传统履历。\\n\\n2. **未来十年的技术方向**：他认为未来十年与过去最大的区别在于个人或小团队的产出数量和质量将达到全新高度，强调了技术创新和团队协作的重要性。\\n\\n3. **OpenAI的挑战**：Altman坦言担任OpenAI CEO的挑战在于需要同时处理多个重大决策，并且面临来自大公司的竞争压力。\\n\\n4. **对AGI的信念**：他谈到了推动AGI（通用人工智能）发展的信念和团队的核心价值观，认为这是未来最值得投入的技术方向。\\n\\n更多详细内容可以参考[新浪财经的报道](https://finance.sina.cn/stock/jdts/2025-07-13/detail-inffhtrt7335082.d.html?vt=4&cid=76993&node_id=76993)。', additional_kwargs={'refusal': None}, response_metadata={'token_usage': {'completion_tokens': 222, 'prompt_tokens': 4119, 'total_tokens': 4341, 'completion_tokens_details': None, 'prompt_tokens_details': None}, 'model_name': 'deepseek-v3', 'system_fingerprint': None, 'id': 'chatcmpl-b656fa13-c26e-9ae7-919b-e8bcb74ad86f', 'service_tier': None, 'finish_reason': 'stop', 'logprobs': None}, id='run--431cf1a8-6126-4618-ba79-d66541e71434-0', usage_metadata={'input_tokens': 4119, 'output_tokens': 222, 'total_tokens': 4341, 'input_token_details': {}, 'output_token_details': {}})]}"
      ]
     },
     "execution_count": 11,
     "metadata": {},
     "output_type": "execute_result"
    }
   ],
   "source": [
    "response = search_agent.invoke(\n",
    "    {\n",
    "        \"messages\": [\n",
    "            {\"role\": \"human\", \"content\": \"帮我搜索最近 OpenAI CEO在访谈中的核心观点。\"}\n",
    "        ]\n",
    "    }\n",
    ")\n",
    "response"
   ]
  },
  {
   "cell_type": "code",
   "execution_count": 13,
   "id": "fb79b283",
   "metadata": {},
   "outputs": [
    {
     "name": "stdout",
     "output_type": "stream",
     "text": [
      "最近OpenAI CEO Sam Altman在访谈中分享了一些核心观点，主要包括：\n",
      "\n",
      "1. **技术与团队的重要性**：Altman强调了在早期阶段，年轻、有冲劲的团队成员比经验丰富的老将更为重要。他更看重个人的成长潜力和实际成就，而非传统履历。\n",
      "\n",
      "2. **未来十年的技术方向**：他认为未来十年与过去最大的区别在于个人或小团队的产出数量和质量将达到全新高度，强调了技术创新和团队协作的重要性。\n",
      "\n",
      "3. **OpenAI的挑战**：Altman坦言担任OpenAI CEO的挑战在于需要同时处理多个重大决策，并且面临来自大公司的竞争压力。\n",
      "\n",
      "4. **对AGI的信念**：他谈到了推动AGI（通用人工智能）发展的信念和团队的核心价值观，认为这是未来最值得投入的技术方向。\n",
      "\n",
      "更多详细内容可以参考[新浪财经的报道](https://finance.sina.cn/stock/jdts/2025-07-13/detail-inffhtrt7335082.d.html?vt=4&cid=76993&node_id=76993)。\n"
     ]
    }
   ],
   "source": [
    "print(response[\"messages\"][-1].content)"
   ]
  },
  {
   "cell_type": "code",
   "execution_count": 15,
   "id": "ac7c4f3f",
   "metadata": {},
   "outputs": [
    {
     "data": {
      "text/plain": [
       "{'messages': [HumanMessage(content='请问北京今天天气如何？', additional_kwargs={}, response_metadata={}, id='9a21f90a-9798-4e44-b09f-e212733ecab6'),\n",
       "  AIMessage(content='', additional_kwargs={'tool_calls': [{'id': 'call_37a8eb4dda3944b8b55632', 'function': {'arguments': '{\"loc\":\"Beijing\"}', 'name': 'get_weather'}, 'type': 'function', 'index': 0}], 'refusal': None}, response_metadata={'token_usage': {'completion_tokens': 19, 'prompt_tokens': 355, 'total_tokens': 374, 'completion_tokens_details': None, 'prompt_tokens_details': None}, 'model_name': 'deepseek-v3', 'system_fingerprint': None, 'id': 'chatcmpl-714a212c-8b3e-9470-90da-a5c3db6f068a', 'service_tier': None, 'finish_reason': 'tool_calls', 'logprobs': None}, id='run--314eb062-ea37-44d7-8374-013718dda3ec-0', tool_calls=[{'name': 'get_weather', 'args': {'loc': 'Beijing'}, 'id': 'call_37a8eb4dda3944b8b55632', 'type': 'tool_call'}], usage_metadata={'input_tokens': 355, 'output_tokens': 19, 'total_tokens': 374, 'input_token_details': {}, 'output_token_details': {}}),\n",
       "  ToolMessage(content='{\"coord\": {\"lon\": 116.3972, \"lat\": 39.9075}, \"weather\": [{\"id\": 804, \"main\": \"Clouds\", \"description\": \"\\\\u9634\\\\uff0c\\\\u591a\\\\u4e91\", \"icon\": \"04d\"}], \"base\": \"stations\", \"main\": {\"temp\": 28.94, \"feels_like\": 29.46, \"temp_min\": 28.94, \"temp_max\": 28.94, \"pressure\": 999, \"humidity\": 49, \"sea_level\": 999, \"grnd_level\": 993}, \"visibility\": 10000, \"wind\": {\"speed\": 0.75, \"deg\": 14, \"gust\": 1.77}, \"clouds\": {\"all\": 100}, \"dt\": 1752648845, \"sys\": {\"type\": 1, \"id\": 9609, \"country\": \"CN\", \"sunrise\": 1752613129, \"sunset\": 1752666099}, \"timezone\": 28800, \"id\": 1816670, \"name\": \"Beijing\", \"cod\": 200}', name='get_weather', id='f8c18fe6-ae8b-487a-a33c-d24e8037e3a8', tool_call_id='call_37a8eb4dda3944b8b55632'),\n",
       "  AIMessage(content='北京今天的天气情况如下：\\n\\n- **天气状况**: 阴，多云\\n- **温度**: 28.94°C (体感温度 29.46°C)\\n- **湿度**: 49%\\n- **气压**: 999 hPa\\n- **能见度**: 10公里\\n- **风速**: 0.75 m/s (风向 14°)\\n- **云量**: 100%\\n\\n日出时间: 05:58，日落时间: 19:21。', additional_kwargs={'refusal': None}, response_metadata={'token_usage': {'completion_tokens': 102, 'prompt_tokens': 643, 'total_tokens': 745, 'completion_tokens_details': None, 'prompt_tokens_details': None}, 'model_name': 'deepseek-v3', 'system_fingerprint': None, 'id': 'chatcmpl-2d7c68ec-de5e-9ed2-9300-bf13e4375a20', 'service_tier': None, 'finish_reason': 'stop', 'logprobs': None}, id='run--d46f8db9-bfa0-4208-8a9b-4f4e283dcd67-0', usage_metadata={'input_tokens': 643, 'output_tokens': 102, 'total_tokens': 745, 'input_token_details': {}, 'output_token_details': {}})]}"
      ]
     },
     "execution_count": 15,
     "metadata": {},
     "output_type": "execute_result"
    }
   ],
   "source": [
    "# 限制工具调用次数\n",
    "\n",
    "from langgraph.errors import GraphRecursionError\n",
    "\n",
    "\n",
    "try:\n",
    "    response = agent.invoke(\n",
    "        {\"messages\": [{\"role\": \"user\", \"content\": \"请问北京今天天气如何？\"}]},\n",
    "        {\"recursion_limit\": 4},\n",
    "    )\n",
    "except GraphRecursionError:\n",
    "    print(\"Agent stopped due to max iterations.\")\n",
    "\n",
    "response"
   ]
  },
  {
   "cell_type": "markdown",
   "id": "3af7c369",
   "metadata": {},
   "source": [
    "## 记忆"
   ]
  },
  {
   "cell_type": "code",
   "execution_count": 5,
   "id": "31ae05e4",
   "metadata": {},
   "outputs": [],
   "source": [
    "from langgraph.checkpoint.memory import InMemorySaver\n",
    "from langgraph.prebuilt import create_react_agent\n",
    "\n",
    "checkpointer = InMemorySaver()\n",
    "\n",
    "tools = [get_weather]\n",
    "\n",
    "agent = create_react_agent(model=model, tools=tools, checkpointer=checkpointer)"
   ]
  },
  {
   "cell_type": "code",
   "execution_count": 6,
   "id": "40825173",
   "metadata": {},
   "outputs": [],
   "source": [
    "config = {\n",
    "    \"configurable\": {\n",
    "        \"thread_id\": 1,\n",
    "    }\n",
    "}"
   ]
  },
  {
   "cell_type": "code",
   "execution_count": 9,
   "id": "f529e8d1",
   "metadata": {},
   "outputs": [
    {
     "data": {
      "text/plain": [
       "{'messages': [HumanMessage(content='你好，我叫陈明好久不见', additional_kwargs={}, response_metadata={}, id='f225c98f-0b01-4bdd-8785-88f74d7d4906'),\n",
       "  HumanMessage(content='你好，我叫陈明好久不见', additional_kwargs={}, response_metadata={}, id='b59d8937-11dd-4892-9f06-1c94a8db7ebf'),\n",
       "  AIMessage(content='你好，陈明！好久不见，最近过得怎么样？', additional_kwargs={'refusal': None}, response_metadata={'token_usage': {'completion_tokens': 12, 'prompt_tokens': 267, 'total_tokens': 279, 'completion_tokens_details': None, 'prompt_tokens_details': None}, 'model_name': 'deepseek-v3', 'system_fingerprint': None, 'id': 'chatcmpl-544ce87c-53e6-9390-878c-a45de145fc13', 'service_tier': None, 'finish_reason': 'stop', 'logprobs': None}, id='run--708faea8-546c-42b8-a2f9-b8708f49026b-0', usage_metadata={'input_tokens': 267, 'output_tokens': 12, 'total_tokens': 279, 'input_token_details': {}, 'output_token_details': {}})]}"
      ]
     },
     "execution_count": 9,
     "metadata": {},
     "output_type": "execute_result"
    }
   ],
   "source": [
    "response = agent.invoke(\n",
    "    {\"messages\": [{\"role\": \"human\", \"content\": \"你好，我叫陈明好久不见\"}]},\n",
    "    config,\n",
    ")\n",
    "response"
   ]
  },
  {
   "cell_type": "code",
   "execution_count": 10,
   "id": "f5d177ab",
   "metadata": {},
   "outputs": [
    {
     "data": {
      "text/plain": [
       "StateSnapshot(values={'messages': [HumanMessage(content='你好，我叫陈明好久不见', additional_kwargs={}, response_metadata={}, id='f225c98f-0b01-4bdd-8785-88f74d7d4906'), HumanMessage(content='你好，我叫陈明好久不见', additional_kwargs={}, response_metadata={}, id='b59d8937-11dd-4892-9f06-1c94a8db7ebf'), AIMessage(content='你好，陈明！好久不见，最近过得怎么样？', additional_kwargs={'refusal': None}, response_metadata={'token_usage': {'completion_tokens': 12, 'prompt_tokens': 267, 'total_tokens': 279, 'completion_tokens_details': None, 'prompt_tokens_details': None}, 'model_name': 'deepseek-v3', 'system_fingerprint': None, 'id': 'chatcmpl-544ce87c-53e6-9390-878c-a45de145fc13', 'service_tier': None, 'finish_reason': 'stop', 'logprobs': None}, id='run--708faea8-546c-42b8-a2f9-b8708f49026b-0', usage_metadata={'input_tokens': 267, 'output_tokens': 12, 'total_tokens': 279, 'input_token_details': {}, 'output_token_details': {}})]}, next=(), config={'configurable': {'thread_id': '1', 'checkpoint_ns': '', 'checkpoint_id': '1f062221-79ad-6f91-8003-2df5b2af0046'}}, metadata={'source': 'loop', 'step': 3, 'parents': {}, 'thread_id': 1}, created_at='2025-07-16T08:51:41.292123+00:00', parent_config={'configurable': {'thread_id': '1', 'checkpoint_ns': '', 'checkpoint_id': '1f062221-6def-621e-8002-7ec30486caa5'}}, tasks=(), interrupts=())"
      ]
     },
     "execution_count": 10,
     "metadata": {},
     "output_type": "execute_result"
    }
   ],
   "source": [
    "latest = agent.get_state(config)\n",
    "latest"
   ]
  },
  {
   "cell_type": "code",
   "execution_count": 11,
   "id": "778a7262",
   "metadata": {},
   "outputs": [
    {
     "data": {
      "text/plain": [
       "{'messages': [HumanMessage(content='你好，我叫陈明好久不见', additional_kwargs={}, response_metadata={}, id='f225c98f-0b01-4bdd-8785-88f74d7d4906'),\n",
       "  HumanMessage(content='你好，我叫陈明好久不见', additional_kwargs={}, response_metadata={}, id='b59d8937-11dd-4892-9f06-1c94a8db7ebf'),\n",
       "  AIMessage(content='你好，陈明！好久不见，最近过得怎么样？', additional_kwargs={'refusal': None}, response_metadata={'token_usage': {'completion_tokens': 12, 'prompt_tokens': 267, 'total_tokens': 279, 'completion_tokens_details': None, 'prompt_tokens_details': None}, 'model_name': 'deepseek-v3', 'system_fingerprint': None, 'id': 'chatcmpl-544ce87c-53e6-9390-878c-a45de145fc13', 'service_tier': None, 'finish_reason': 'stop', 'logprobs': None}, id='run--708faea8-546c-42b8-a2f9-b8708f49026b-0', usage_metadata={'input_tokens': 267, 'output_tokens': 12, 'total_tokens': 279, 'input_token_details': {}, 'output_token_details': {}}),\n",
       "  HumanMessage(content='你好，你还记得我的名字吗？', additional_kwargs={}, response_metadata={}, id='84095d25-0803-4eb5-b828-e724165ffba0'),\n",
       "  AIMessage(content='当然记得！你刚才说过你叫陈明，对吧？有什么需要帮忙的吗？ 😊', additional_kwargs={'refusal': None}, response_metadata={'token_usage': {'completion_tokens': 20, 'prompt_tokens': 290, 'total_tokens': 310, 'completion_tokens_details': None, 'prompt_tokens_details': None}, 'model_name': 'deepseek-v3', 'system_fingerprint': None, 'id': 'chatcmpl-3e13cb38-7b58-95fc-84a4-0e369e5f6c61', 'service_tier': None, 'finish_reason': 'stop', 'logprobs': None}, id='run--dd67ce56-72ff-45bc-8d3b-ad4cabf8173b-0', usage_metadata={'input_tokens': 290, 'output_tokens': 20, 'total_tokens': 310, 'input_token_details': {}, 'output_token_details': {}})]}"
      ]
     },
     "execution_count": 11,
     "metadata": {},
     "output_type": "execute_result"
    }
   ],
   "source": [
    "response = agent.invoke(\n",
    "    {\"messages\": [{\"role\": \"human\", \"content\": \"你好，你还记得我的名字吗？\"}]},\n",
    "    config,\n",
    ")\n",
    "response"
   ]
  },
  {
   "cell_type": "code",
   "execution_count": 13,
   "id": "e191938d",
   "metadata": {},
   "outputs": [
    {
     "data": {
      "text/plain": [
       "StateSnapshot(values={'messages': [HumanMessage(content='你好，我叫陈明好久不见', additional_kwargs={}, response_metadata={}, id='f225c98f-0b01-4bdd-8785-88f74d7d4906'), HumanMessage(content='你好，我叫陈明好久不见', additional_kwargs={}, response_metadata={}, id='b59d8937-11dd-4892-9f06-1c94a8db7ebf'), AIMessage(content='你好，陈明！好久不见，最近过得怎么样？', additional_kwargs={'refusal': None}, response_metadata={'token_usage': {'completion_tokens': 12, 'prompt_tokens': 267, 'total_tokens': 279, 'completion_tokens_details': None, 'prompt_tokens_details': None}, 'model_name': 'deepseek-v3', 'system_fingerprint': None, 'id': 'chatcmpl-544ce87c-53e6-9390-878c-a45de145fc13', 'service_tier': None, 'finish_reason': 'stop', 'logprobs': None}, id='run--708faea8-546c-42b8-a2f9-b8708f49026b-0', usage_metadata={'input_tokens': 267, 'output_tokens': 12, 'total_tokens': 279, 'input_token_details': {}, 'output_token_details': {}}), HumanMessage(content='你好，你还记得我的名字吗？', additional_kwargs={}, response_metadata={}, id='84095d25-0803-4eb5-b828-e724165ffba0'), AIMessage(content='当然记得！你刚才说过你叫陈明，对吧？有什么需要帮忙的吗？ 😊', additional_kwargs={'refusal': None}, response_metadata={'token_usage': {'completion_tokens': 20, 'prompt_tokens': 290, 'total_tokens': 310, 'completion_tokens_details': None, 'prompt_tokens_details': None}, 'model_name': 'deepseek-v3', 'system_fingerprint': None, 'id': 'chatcmpl-3e13cb38-7b58-95fc-84a4-0e369e5f6c61', 'service_tier': None, 'finish_reason': 'stop', 'logprobs': None}, id='run--dd67ce56-72ff-45bc-8d3b-ad4cabf8173b-0', usage_metadata={'input_tokens': 290, 'output_tokens': 20, 'total_tokens': 310, 'input_token_details': {}, 'output_token_details': {}})]}, next=(), config={'configurable': {'thread_id': '1', 'checkpoint_ns': '', 'checkpoint_id': '1f062223-b02d-6627-8006-a6240cad2626'}}, metadata={'source': 'loop', 'step': 6, 'parents': {}, 'thread_id': '1'}, created_at='2025-07-16T08:52:40.693191+00:00', parent_config={'configurable': {'thread_id': '1', 'checkpoint_ns': '', 'checkpoint_id': '1f062223-9e74-6abf-8005-3f0166b7f0fe'}}, tasks=(), interrupts=())"
      ]
     },
     "execution_count": 13,
     "metadata": {},
     "output_type": "execute_result"
    }
   ],
   "source": [
    "latest = agent.get_state(config)\n",
    "latest"
   ]
  }
 ],
 "metadata": {
  "kernelspec": {
   "display_name": ".venv",
   "language": "python",
   "name": "python3"
  },
  "language_info": {
   "codemirror_mode": {
    "name": "ipython",
    "version": 3
   },
   "file_extension": ".py",
   "mimetype": "text/x-python",
   "name": "python",
   "nbconvert_exporter": "python",
   "pygments_lexer": "ipython3",
   "version": "3.12.11"
  }
 },
 "nbformat": 4,
 "nbformat_minor": 5
}
